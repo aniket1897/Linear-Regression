{
 "cells": [
  {
   "cell_type": "code",
   "execution_count": 1,
   "metadata": {},
   "outputs": [],
   "source": [
    "import pandas as pd"
   ]
  },
  {
   "cell_type": "code",
   "execution_count": 7,
   "metadata": {},
   "outputs": [],
   "source": [
    "df=pd.read_csv('/Users/paianiket4/Desktop/data.csv', names=['X','Y'])"
   ]
  },
  {
   "cell_type": "code",
   "execution_count": 8,
   "metadata": {},
   "outputs": [
    {
     "data": {
      "text/html": [
       "<div>\n",
       "<style scoped>\n",
       "    .dataframe tbody tr th:only-of-type {\n",
       "        vertical-align: middle;\n",
       "    }\n",
       "\n",
       "    .dataframe tbody tr th {\n",
       "        vertical-align: top;\n",
       "    }\n",
       "\n",
       "    .dataframe thead th {\n",
       "        text-align: right;\n",
       "    }\n",
       "</style>\n",
       "<table border=\"1\" class=\"dataframe\">\n",
       "  <thead>\n",
       "    <tr style=\"text-align: right;\">\n",
       "      <th></th>\n",
       "      <th>X</th>\n",
       "      <th>Y</th>\n",
       "    </tr>\n",
       "  </thead>\n",
       "  <tbody>\n",
       "    <tr>\n",
       "      <th>count</th>\n",
       "      <td>100.000000</td>\n",
       "      <td>100.000000</td>\n",
       "    </tr>\n",
       "    <tr>\n",
       "      <th>mean</th>\n",
       "      <td>48.958341</td>\n",
       "      <td>72.735051</td>\n",
       "    </tr>\n",
       "    <tr>\n",
       "      <th>std</th>\n",
       "      <td>9.746379</td>\n",
       "      <td>16.658187</td>\n",
       "    </tr>\n",
       "    <tr>\n",
       "      <th>min</th>\n",
       "      <td>25.128485</td>\n",
       "      <td>31.707006</td>\n",
       "    </tr>\n",
       "    <tr>\n",
       "      <th>25%</th>\n",
       "      <td>41.526164</td>\n",
       "      <td>60.788586</td>\n",
       "    </tr>\n",
       "    <tr>\n",
       "      <th>50%</th>\n",
       "      <td>49.634970</td>\n",
       "      <td>72.179542</td>\n",
       "    </tr>\n",
       "    <tr>\n",
       "      <th>75%</th>\n",
       "      <td>56.762631</td>\n",
       "      <td>83.215080</td>\n",
       "    </tr>\n",
       "    <tr>\n",
       "      <th>max</th>\n",
       "      <td>70.346076</td>\n",
       "      <td>118.591217</td>\n",
       "    </tr>\n",
       "  </tbody>\n",
       "</table>\n",
       "</div>"
      ],
      "text/plain": [
       "                X           Y\n",
       "count  100.000000  100.000000\n",
       "mean    48.958341   72.735051\n",
       "std      9.746379   16.658187\n",
       "min     25.128485   31.707006\n",
       "25%     41.526164   60.788586\n",
       "50%     49.634970   72.179542\n",
       "75%     56.762631   83.215080\n",
       "max     70.346076  118.591217"
      ]
     },
     "execution_count": 8,
     "metadata": {},
     "output_type": "execute_result"
    }
   ],
   "source": [
    "df.describe()"
   ]
  },
  {
   "cell_type": "code",
   "execution_count": 9,
   "metadata": {},
   "outputs": [
    {
     "data": {
      "text/html": [
       "<div>\n",
       "<style scoped>\n",
       "    .dataframe tbody tr th:only-of-type {\n",
       "        vertical-align: middle;\n",
       "    }\n",
       "\n",
       "    .dataframe tbody tr th {\n",
       "        vertical-align: top;\n",
       "    }\n",
       "\n",
       "    .dataframe thead th {\n",
       "        text-align: right;\n",
       "    }\n",
       "</style>\n",
       "<table border=\"1\" class=\"dataframe\">\n",
       "  <thead>\n",
       "    <tr style=\"text-align: right;\">\n",
       "      <th></th>\n",
       "      <th>X</th>\n",
       "      <th>Y</th>\n",
       "    </tr>\n",
       "  </thead>\n",
       "  <tbody>\n",
       "    <tr>\n",
       "      <th>0</th>\n",
       "      <td>32.502345</td>\n",
       "      <td>31.707006</td>\n",
       "    </tr>\n",
       "    <tr>\n",
       "      <th>1</th>\n",
       "      <td>53.426804</td>\n",
       "      <td>68.777596</td>\n",
       "    </tr>\n",
       "    <tr>\n",
       "      <th>2</th>\n",
       "      <td>61.530358</td>\n",
       "      <td>62.562382</td>\n",
       "    </tr>\n",
       "    <tr>\n",
       "      <th>3</th>\n",
       "      <td>47.475640</td>\n",
       "      <td>71.546632</td>\n",
       "    </tr>\n",
       "    <tr>\n",
       "      <th>4</th>\n",
       "      <td>59.813208</td>\n",
       "      <td>87.230925</td>\n",
       "    </tr>\n",
       "  </tbody>\n",
       "</table>\n",
       "</div>"
      ],
      "text/plain": [
       "           X          Y\n",
       "0  32.502345  31.707006\n",
       "1  53.426804  68.777596\n",
       "2  61.530358  62.562382\n",
       "3  47.475640  71.546632\n",
       "4  59.813208  87.230925"
      ]
     },
     "execution_count": 9,
     "metadata": {},
     "output_type": "execute_result"
    }
   ],
   "source": [
    "df.head()"
   ]
  },
  {
   "cell_type": "code",
   "execution_count": 10,
   "metadata": {},
   "outputs": [],
   "source": [
    "import matplotlib.pyplot as plt"
   ]
  },
  {
   "cell_type": "code",
   "execution_count": 14,
   "metadata": {},
   "outputs": [],
   "source": [
    "X=df[\"X\"]\n",
    "y=df[\"Y\"]"
   ]
  },
  {
   "cell_type": "code",
   "execution_count": 13,
   "metadata": {},
   "outputs": [
    {
     "name": "stdout",
     "output_type": "stream",
     "text": [
      "0     32.502345\n",
      "1     53.426804\n",
      "2     61.530358\n",
      "3     47.475640\n",
      "4     59.813208\n",
      "5     55.142188\n",
      "6     52.211797\n",
      "7     39.299567\n",
      "8     48.105042\n",
      "9     52.550014\n",
      "10    45.419730\n",
      "11    54.351635\n",
      "12    44.164049\n",
      "13    58.168471\n",
      "14    56.727208\n",
      "15    48.955889\n",
      "16    44.687196\n",
      "17    60.297327\n",
      "18    45.618644\n",
      "19    38.816818\n",
      "20    66.189817\n",
      "21    65.416052\n",
      "22    47.481209\n",
      "23    41.575643\n",
      "24    51.845187\n",
      "25    59.370822\n",
      "26    57.310003\n",
      "27    63.615561\n",
      "28    46.737619\n",
      "29    50.556760\n",
      "        ...    \n",
      "70    31.588117\n",
      "71    53.660932\n",
      "72    46.682229\n",
      "73    43.107820\n",
      "74    70.346076\n",
      "75    44.492856\n",
      "76    57.504533\n",
      "77    36.930077\n",
      "78    55.805733\n",
      "79    38.954769\n",
      "80    56.901215\n",
      "81    56.868901\n",
      "82    34.333125\n",
      "83    59.049741\n",
      "84    57.788224\n",
      "85    54.282329\n",
      "86    51.088720\n",
      "87    50.282836\n",
      "88    44.211742\n",
      "89    38.005488\n",
      "90    32.940480\n",
      "91    53.691640\n",
      "92    68.765734\n",
      "93    46.230966\n",
      "94    68.319361\n",
      "95    50.030174\n",
      "96    49.239765\n",
      "97    50.039576\n",
      "98    48.149859\n",
      "99    25.128485\n",
      "Name: X, Length: 100, dtype: float64\n"
     ]
    }
   ],
   "source": [
    "print(X)"
   ]
  },
  {
   "cell_type": "code",
   "execution_count": 16,
   "metadata": {},
   "outputs": [
    {
     "data": {
      "text/plain": [
       "[<matplotlib.lines.Line2D at 0x11699cf60>]"
      ]
     },
     "execution_count": 16,
     "metadata": {},
     "output_type": "execute_result"
    },
    {
     "data": {
      "image/png": "[encoded data removed]",
      "text/plain": [
       "<Figure size 432x288 with 1 Axes>"
      ]
     },
     "metadata": {},
     "output_type": "display_data"
    }
   ],
   "source": [
    "plt.plot(X,y,'rx')"
   ]
  },
  {
   "cell_type": "code",
   "execution_count": 17,
   "metadata": {},
   "outputs": [],
   "source": [
    "# number of training examples\n",
    "m = len(X)\n",
    "# number of features\n",
    "n=2"
   ]
  },
  {
   "cell_type": "code",
   "execution_count": 18,
   "metadata": {},
   "outputs": [
    {
     "name": "stdout",
     "output_type": "stream",
     "text": [
      "100\n"
     ]
    }
   ],
   "source": [
    "print(m)"
   ]
  },
  {
   "cell_type": "code",
   "execution_count": 20,
   "metadata": {},
   "outputs": [],
   "source": [
    "theta1=0\n",
    "theta2=0\n",
    "# learning rate\n",
    "alpha=0.0001\n",
    "\n",
    "# number of iterations\n",
    "num_iter=1000"
   ]
  },
  {
   "cell_type": "code",
   "execution_count": 27,
   "metadata": {},
   "outputs": [],
   "source": [
    "def step_gradient(a,b,X,Y,rate):\n",
    "    c=0\n",
    "    d=0\n",
    "    m=float(len(X))\n",
    "    for i in range(0,len(X)):\n",
    "        c=c+(1/m)* ( (a+b*X[i]) - Y[i] )\n",
    "        d=d+(1/m)* ( (a+b*X[i]) - Y[i] )*X[i]\n",
    "    new_theta0= a - rate * c\n",
    "    new_theta1= b - rate * d\n",
    "    return [new_theta0,new_theta1]\n",
    "    "
   ]
  },
  {
   "cell_type": "code",
   "execution_count": 22,
   "metadata": {},
   "outputs": [],
   "source": [
    "def gradient_descent(m,n,X,y,iterations,rate):\n",
    "    theta0=0\n",
    "    theta1=0\n",
    "    for i in range(0,iterations):\n",
    "        [theta0,theta1]=step_gradient(theta0,theta1,X,y,rate)\n",
    "    return [theta0,theta1]"
   ]
  },
  {
   "cell_type": "code",
   "execution_count": 23,
   "metadata": {},
   "outputs": [
    {
     "name": "stdout",
     "output_type": "stream",
     "text": [
      "0     32.502345\n",
      "1     53.426804\n",
      "2     61.530358\n",
      "3     47.475640\n",
      "4     59.813208\n",
      "5     55.142188\n",
      "6     52.211797\n",
      "7     39.299567\n",
      "8     48.105042\n",
      "9     52.550014\n",
      "10    45.419730\n",
      "11    54.351635\n",
      "12    44.164049\n",
      "13    58.168471\n",
      "14    56.727208\n",
      "15    48.955889\n",
      "16    44.687196\n",
      "17    60.297327\n",
      "18    45.618644\n",
      "19    38.816818\n",
      "20    66.189817\n",
      "21    65.416052\n",
      "22    47.481209\n",
      "23    41.575643\n",
      "24    51.845187\n",
      "25    59.370822\n",
      "26    57.310003\n",
      "27    63.615561\n",
      "28    46.737619\n",
      "29    50.556760\n",
      "        ...    \n",
      "70    31.588117\n",
      "71    53.660932\n",
      "72    46.682229\n",
      "73    43.107820\n",
      "74    70.346076\n",
      "75    44.492856\n",
      "76    57.504533\n",
      "77    36.930077\n",
      "78    55.805733\n",
      "79    38.954769\n",
      "80    56.901215\n",
      "81    56.868901\n",
      "82    34.333125\n",
      "83    59.049741\n",
      "84    57.788224\n",
      "85    54.282329\n",
      "86    51.088720\n",
      "87    50.282836\n",
      "88    44.211742\n",
      "89    38.005488\n",
      "90    32.940480\n",
      "91    53.691640\n",
      "92    68.765734\n",
      "93    46.230966\n",
      "94    68.319361\n",
      "95    50.030174\n",
      "96    49.239765\n",
      "97    50.039576\n",
      "98    48.149859\n",
      "99    25.128485\n",
      "Name: X, Length: 100, dtype: float64\n"
     ]
    }
   ],
   "source": [
    "print(X)"
   ]
  },
  {
   "cell_type": "code",
   "execution_count": 25,
   "metadata": {},
   "outputs": [
    {
     "name": "stdout",
     "output_type": "stream",
     "text": [
      "0      31.707006\n",
      "1      68.777596\n",
      "2      62.562382\n",
      "3      71.546632\n",
      "4      87.230925\n",
      "5      78.211518\n",
      "6      79.641973\n",
      "7      59.171489\n",
      "8      75.331242\n",
      "9      71.300880\n",
      "10     55.165677\n",
      "11     82.478847\n",
      "12     62.008923\n",
      "13     75.392870\n",
      "14     81.436192\n",
      "15     60.723602\n",
      "16     82.892504\n",
      "17     97.379897\n",
      "18     48.847153\n",
      "19     56.877213\n",
      "20     83.878565\n",
      "21    118.591217\n",
      "22     57.251819\n",
      "23     51.391744\n",
      "24     75.380652\n",
      "25     74.765564\n",
      "26     95.455053\n",
      "27     95.229366\n",
      "28     79.052406\n",
      "29     83.432071\n",
      "         ...    \n",
      "70     50.392670\n",
      "71     63.642399\n",
      "72     72.247251\n",
      "73     57.812513\n",
      "74    104.257102\n",
      "75     86.642020\n",
      "76     91.486778\n",
      "77     55.231661\n",
      "78     79.550437\n",
      "79     44.847124\n",
      "80     80.207523\n",
      "81     83.142750\n",
      "82     55.723489\n",
      "83     77.634183\n",
      "84     99.051415\n",
      "85     79.120646\n",
      "86     69.588898\n",
      "87     69.510503\n",
      "88     73.687564\n",
      "89     61.366905\n",
      "90     67.170656\n",
      "91     85.668203\n",
      "92    114.853871\n",
      "93     90.123572\n",
      "94     97.919821\n",
      "95     81.536991\n",
      "96     72.111832\n",
      "97     85.232007\n",
      "98     66.224958\n",
      "99     53.454394\n",
      "Name: Y, Length: 100, dtype: float64\n"
     ]
    }
   ],
   "source": [
    "print(y)"
   ]
  },
  {
   "cell_type": "code",
   "execution_count": 29,
   "metadata": {},
   "outputs": [
    {
     "name": "stdout",
     "output_type": "stream",
     "text": [
      "Theta 0 = 0.05905855664216081 Theta 1=1.4783313274545458\n"
     ]
    }
   ],
   "source": [
    "if __name__==\"__main__\":\n",
    "    # number of training examples\n",
    "    m = len(X)\n",
    "    # number of features\n",
    "    n=2\n",
    "    # learning rate\n",
    "    alpha=0.0001\n",
    "\n",
    "    # number of iterations\n",
    "    num_iter=1000\n",
    "    [a,b]=gradient_descent(m,n,X,y,num_iter,alpha)\n",
    "    print('Theta 0 = {0} Theta 1={1}'.format(a,b))"
   ]
  },
  {
   "cell_type": "code",
   "execution_count": 30,
   "metadata": {},
   "outputs": [
    {
     "name": "stdout",
     "output_type": "stream",
     "text": [
      "Predicted value = 71.17418706384308\n",
      "Expected value = 75.3312\n"
     ]
    }
   ],
   "source": [
    "# test example\n",
    "x_value=48.105 \n",
    "y_value=75.3312\n",
    "predicated_value= a+b*x_value\n",
    "print('Predicted value = {0}'.format(predicated_value))\n",
    "print('Expected value = {0}'.format(y_value))"
   ]
  },
  {
   "cell_type": "code",
   "execution_count": null,
   "metadata": {},
   "outputs": [],
   "source": []
  }
 ],
 "metadata": {
  "kernelspec": {
   "display_name": "Python 3",
   "language": "python",
   "name": "python3"
  },
  "language_info": {
   "codemirror_mode": {
    "name": "ipython",
    "version": 3
   },
   "file_extension": ".py",
   "mimetype": "text/x-python",
   "name": "python",
   "nbconvert_exporter": "python",
   "pygments_lexer": "ipython3",
   "version": "3.6.5"
  }
 },
 "nbformat": 4,
 "nbformat_minor": 2
}
